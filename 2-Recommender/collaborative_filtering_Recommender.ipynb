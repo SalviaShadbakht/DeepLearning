{
  "cells": [
    {
      "cell_type": "markdown",
      "metadata": {
        "id": "DWY0xGWrw80j"
      },
      "source": [
        "# Collaborative Filtering for Item Recommendations"
      ]
    },
    {
      "cell_type": "markdown",
      "metadata": {
        "id": "Q9JXzMEKw80n"
      },
      "source": [
        "## Introduction\n",
        "\n",
        "The ratings dataset lists the ratings given by a set of users to a set of items.\n",
        "Our goal is to be able to predict ratings for items a user has not yet got.\n",
        "The items with the highest predicted ratings can then be recommended to the user.\n",
        "\n",
        "The steps in the model are as follows:\n",
        "\n",
        "1. Map user ID to a \"user vector\" via an embedding matrix\n",
        "2. Map item ID to a \"item vector\" via an embedding matrix\n",
        "3. Compute the dot product between the user vector and item vector, to obtain\n",
        "the a match score between the user and the item (predicted rating).\n",
        "4. Train the embeddings via gradient descent using all known user-item pairs."
      ]
    },
    {
      "cell_type": "code",
      "execution_count": null,
      "metadata": {
        "id": "LL7_lL_Cw80o"
      },
      "outputs": [],
      "source": [
        "import pandas as pd\n",
        "import numpy as np\n",
        "import tensorflow as tf\n",
        "from tensorflow import keras\n",
        "from tensorflow.keras import layers\n",
        "from pathlib import Path\n",
        "import matplotlib.pyplot as plt"
      ]
    },
    {
      "cell_type": "markdown",
      "metadata": {
        "id": "Nem7Gm9lw80p"
      },
      "source": [
        "## First, load the data and apply preprocessing"
      ]
    },
    {
      "cell_type": "code",
      "execution_count": null,
      "metadata": {
        "id": "10x3btEfw80q"
      },
      "outputs": [],
      "source": [
        "df = pd.read_csv(\"train.csv\")"
      ]
    },
    {
      "cell_type": "code",
      "execution_count": null,
      "metadata": {
        "id": "T5mCxXS88mrk"
      },
      "outputs": [],
      "source": [
        "df=df[:500000]"
      ]
    },
    {
      "cell_type": "markdown",
      "metadata": {
        "id": "FKCGvHBYw80q"
      },
      "source": [
        "First, need to perform some preprocessing to encode users and items as integer indices."
      ]
    },
    {
      "cell_type": "code",
      "execution_count": null,
      "metadata": {
        "colab": {
          "base_uri": "https://localhost:8080/"
        },
        "id": "kAOqXu8uw80q",
        "outputId": "419af4ce-a516-401e-d515-e773de838ff9"
      },
      "outputs": [
        {
          "name": "stdout",
          "output_type": "stream",
          "text": [
            "Number of users: 3289, Number of Items: 20109, Min rating: 1.0, Max rating: 5.0\n"
          ]
        }
      ],
      "source": [
        "user_ids = df[\"userId\"].unique().tolist()\n",
        "user2user_encoded = {x: i for i, x in enumerate(user_ids)}\n",
        "userencoded2user = {i: x for i, x in enumerate(user_ids)}\n",
        "item_ids = df[\"itemId\"].unique().tolist()\n",
        "item2item_encoded = {x: i for i, x in enumerate(item_ids)}\n",
        "item_encoded2item = {i: x for i, x in enumerate(item_ids)}\n",
        "df[\"user\"] = df[\"userId\"].map(user2user_encoded)\n",
        "df[\"item\"] = df[\"itemId\"].map(item2item_encoded)\n",
        "\n",
        "num_users = len(user2user_encoded)\n",
        "num_items = len(item_encoded2item)\n",
        "df[\"rating\"] = df[\"rating\"].values.astype(np.float32)\n",
        "# min and max ratings will be used to normalize the ratings later\n",
        "min_rating = min(df[\"rating\"])\n",
        "max_rating = max(df[\"rating\"])\n",
        "\n",
        "print(\n",
        "    \"Number of users: {}, Number of Items: {}, Min rating: {}, Max rating: {}\".format(\n",
        "        num_users, num_items, min_rating, max_rating\n",
        "    )\n",
        ")"
      ]
    },
    {
      "cell_type": "markdown",
      "metadata": {
        "id": "c-twMLY9w80r"
      },
      "source": [
        "## Prepare training and validation data"
      ]
    },
    {
      "cell_type": "code",
      "execution_count": null,
      "metadata": {
        "id": "Ujn5Gtgvw80r"
      },
      "outputs": [],
      "source": [
        "df = df.sample(frac=1, random_state=42)\n",
        "x = df[[\"user\", \"item\"]].values\n",
        "# Normalize the targets between 0 and 1. Makes it easy to train.\n",
        "y = df[\"rating\"].apply(lambda x: (x - min_rating) / (max_rating - min_rating)).values\n",
        "# Assuming training on 90% of the data and validating on 10%.\n",
        "train_indices = int(0.9 * df.shape[0])\n",
        "x_train, x_val, y_train, y_val = (\n",
        "    x[:train_indices],\n",
        "    x[train_indices:],\n",
        "    y[:train_indices],\n",
        "    y[train_indices:],\n",
        ")"
      ]
    },
    {
      "cell_type": "markdown",
      "metadata": {
        "id": "vnARFG9lw80s"
      },
      "source": [
        "## Create the model\n",
        "\n",
        "We embed both users and items in to 50-dimensional vectors.\n",
        "\n",
        "The model computes a match score between user and item embeddings via a dot product,\n",
        "and adds a per-item and per-user bias. The match score is scaled to the `[0, 1]`\n",
        "interval via a sigmoid (since our ratings are normalized to this range)."
      ]
    },
    {
      "cell_type": "code",
      "execution_count": null,
      "metadata": {
        "id": "N4hyQCA_w80t"
      },
      "outputs": [],
      "source": [
        "EMBEDDING_SIZE = 50\n",
        "\n",
        "\n",
        "class RecommenderNet(keras.Model):\n",
        "    def __init__(self, num_users, num_items, embedding_size, **kwargs):\n",
        "        super().__init__(**kwargs)\n",
        "        self.num_users = num_users\n",
        "        self.num_items = num_items\n",
        "        self.embedding_size = embedding_size\n",
        "        self.user_embedding = layers.Embedding(\n",
        "            num_users,\n",
        "            embedding_size,\n",
        "            embeddings_initializer=\"he_normal\",\n",
        "            embeddings_regularizer=keras.regularizers.l2(1e-6),\n",
        "        )\n",
        "        self.user_bias = layers.Embedding(num_users, 1)\n",
        "        self.item_embedding = layers.Embedding(\n",
        "            num_items,\n",
        "            embedding_size,\n",
        "            embeddings_initializer=\"he_normal\",\n",
        "            embeddings_regularizer=keras.regularizers.l2(1e-6),\n",
        "        )\n",
        "        self.item_bias = layers.Embedding(num_items, 1)\n",
        "\n",
        "    def call(self, inputs):\n",
        "        user_vector = self.user_embedding(inputs[:, 0])\n",
        "        user_bias = self.user_bias(inputs[:, 0])\n",
        "        item_vector = self.item_embedding(inputs[:, 1])\n",
        "        item_bias = self.item_bias(inputs[:, 1])\n",
        "        dot_user_item = tf.tensordot(user_vector, item_vector, 2)\n",
        "        # Add all the components (including bias)\n",
        "        x = dot_user_item + user_bias + item_bias\n",
        "        # The sigmoid activation forces the rating to between 0 and 1\n",
        "        return tf.nn.sigmoid(x)\n",
        "\n",
        "\n",
        "model = RecommenderNet(num_users, num_items, EMBEDDING_SIZE)\n",
        "model.compile(\n",
        "    loss=tf.keras.losses.BinaryCrossentropy(),\n",
        "    optimizer=keras.optimizers.Adam(learning_rate=0.001),\n",
        ")"
      ]
    },
    {
      "cell_type": "markdown",
      "metadata": {
        "id": "f8-K1jQmw80t"
      },
      "source": [
        "## Train the model based on the data split"
      ]
    },
    {
      "cell_type": "code",
      "execution_count": null,
      "metadata": {
        "colab": {
          "base_uri": "https://localhost:8080/"
        },
        "id": "WybnLtBow80t",
        "outputId": "f449d7b5-df34-4c61-95b9-c1031e17f732"
      },
      "outputs": [
        {
          "name": "stdout",
          "output_type": "stream",
          "text": [
            "Epoch 1/5\n",
            "7032/7032 [==============================] - 133s 19ms/step - loss: 0.6521 - val_loss: 0.6453\n",
            "Epoch 2/5\n",
            "7032/7032 [==============================] - 132s 19ms/step - loss: 0.6498 - val_loss: 0.6515\n",
            "Epoch 3/5\n",
            "7032/7032 [==============================] - 134s 19ms/step - loss: 0.6596 - val_loss: 0.6622\n",
            "Epoch 4/5\n",
            "7032/7032 [==============================] - 132s 19ms/step - loss: 0.6724 - val_loss: 0.6696\n",
            "Epoch 5/5\n",
            "7032/7032 [==============================] - 131s 19ms/step - loss: 0.6838 - val_loss: 0.6780\n"
          ]
        }
      ],
      "source": [
        "history = model.fit(\n",
        "    x=x_train,\n",
        "    y=y_train,\n",
        "    batch_size=64,\n",
        "    epochs=5,\n",
        "    verbose=1,\n",
        "    validation_data=(x_val, y_val),\n",
        ")"
      ]
    },
    {
      "cell_type": "markdown",
      "metadata": {
        "id": "kvgZn1wzw80u"
      },
      "source": [
        "## Plot training and validation loss"
      ]
    },
    {
      "cell_type": "code",
      "execution_count": null,
      "metadata": {
        "colab": {
          "base_uri": "https://localhost:8080/",
          "height": 295
        },
        "id": "nW2JtZEvw80u",
        "outputId": "61ed24e1-afdd-436a-ea99-8124d546c8bd"
      },
      "outputs": [
        {
          "data": {
            "image/png": "[encoded data removed]",
            "text/plain": [
              "<Figure size 640x480 with 1 Axes>"
            ]
          },
          "metadata": {},
          "output_type": "display_data"
        }
      ],
      "source": [
        "plt.plot(history.history[\"loss\"])\n",
        "plt.plot(history.history[\"val_loss\"])\n",
        "plt.title(\"model loss\")\n",
        "plt.ylabel(\"loss\")\n",
        "plt.xlabel(\"epoch\")\n",
        "plt.legend([\"train\", \"test\"], loc=\"upper left\")\n",
        "plt.show()"
      ]
    }
  ],
  "metadata": {
    "accelerator": "GPU",
    "colab": {
      "provenance": []
    },
    "kernelspec": {
      "display_name": "Python 3 (ipykernel)",
      "language": "python",
      "name": "python3"
    },
    "language_info": {
      "codemirror_mode": {
        "name": "ipython",
        "version": 3
      },
      "file_extension": ".py",
      "mimetype": "text/x-python",
      "name": "python",
      "nbconvert_exporter": "python",
      "pygments_lexer": "ipython3",
      "version": "3.10.2"
    }
  },
  "nbformat": 4,
  "nbformat_minor": 0
}